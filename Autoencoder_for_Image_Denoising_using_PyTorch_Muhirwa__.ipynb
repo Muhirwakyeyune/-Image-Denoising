{
  "nbformat": 4,
  "nbformat_minor": 0,
  "metadata": {
    "colab": {
      "provenance": []
    },
    "kernelspec": {
      "name": "python3",
      "display_name": "Python 3"
    },
    "language_info": {
      "name": "python"
    }
  },
  "cells": [
    {
      "cell_type": "code",
      "source": [
        "#step 1 import libraries\n",
        "import torch\n",
        "import torch.nn as nn\n",
        "import torch.optim as optim\n",
        "import torchvision.transforms as transforms\n",
        "import torchvision.datasets as datasets \n"
      ],
      "metadata": {
        "id": "TgP3RlDQeKa9"
      },
      "execution_count": 18,
      "outputs": []
    },
    {
      "cell_type": "code",
      "source": [
        "\n",
        "# Step 2Prepare the datasets\n",
        "noise = transforms.Lambda(lambda x: transforms.ToTensor()(x) + 0.5*torch.randn_like(transforms.ToTensor()(x)).clamp(-1, 1))\n",
        "\n",
        "# Load the MNIST dataset\n",
        "train_dataset = datasets.MNIST(root='./data', train=True, transform=noise, download=True)\n",
        "test_dataset = datasets.MNIST(root='./data', train=False, transform=transforms.ToTensor(), download=True)\n",
        "\n",
        "# Create data loaders\n",
        "batch_size = 8\n",
        "train_loader = torch.utils.data.DataLoader(train_dataset, batch_size=batch_size, shuffle=True)\n",
        "test_loader = torch.utils.data.DataLoader(test_dataset, batch_size=batch_size, shuffle=True)"
      ],
      "metadata": {
        "id": "l3YEqhX4ez8k"
      },
      "execution_count": 19,
      "outputs": []
    },
    {
      "cell_type": "code",
      "source": [
        "device=torch.device(\"cuda\" if torch.cuda.is_available else  \"cpu\")"
      ],
      "metadata": {
        "id": "6-wMTjYtj0PU"
      },
      "execution_count": 20,
      "outputs": []
    },
    {
      "cell_type": "code",
      "source": [
        "import torch.nn as nn\n",
        "\n",
        "class Autoencoder(nn.Module):\n",
        "    def __init__(self, dropout_rate=0.2):\n",
        "        super(Autoencoder, self).__init__()\n",
        "\n",
        "        self.encoder = nn.Sequential(\n",
        "            nn.Conv2d(in_channels=1, out_channels=16, kernel_size=3, stride=2, padding=1),\n",
        "            nn.ReLU(),\n",
        "            nn.Dropout(p=dropout_rate),\n",
        "            nn.Conv2d(in_channels=16, out_channels=32, kernel_size=3, stride=2, padding=1),\n",
        "            nn.ReLU(),\n",
        "            nn.Dropout(p=dropout_rate),\n",
        "            nn.Conv2d(in_channels=32, out_channels=64, kernel_size=3, stride=2, padding=1),\n",
        "            nn.ReLU(),\n",
        "            nn.Dropout(p=dropout_rate),\n",
        "            nn.Flatten(),\n",
        "            nn.Linear(64*4*4, 128),\n",
        "            nn.ReLU(),\n",
        "            nn.Dropout(p=dropout_rate),\n",
        "            nn.Linear(128, 64),\n",
        "            nn.ReLU(),\n",
        "            nn.Dropout(p=dropout_rate),\n",
        "            nn.Linear(64, 16),\n",
        "            nn.ReLU()\n",
        "        )\n",
        "\n",
        "        self.decoder = nn.Sequential(\n",
        "            nn.Linear(16, 64),\n",
        "            nn.ReLU(),\n",
        "            nn.Dropout(p=dropout_rate),\n",
        "            nn.Linear(64, 128),\n",
        "            nn.ReLU(),\n",
        "            nn.Dropout(p=dropout_rate),\n",
        "            nn.Linear(128, 64*4*4),\n",
        "            nn.ReLU(),\n",
        "            nn.Dropout(p=dropout_rate),\n",
        "            nn.Unflatten(dim=1, unflattened_size=(64, 4, 4)),\n",
        "            nn.ConvTranspose2d(in_channels=64, out_channels=32, kernel_size=3, stride=2, padding=1, output_padding=1),\n",
        "            nn.ReLU(),\n",
        "            nn.Dropout(p=dropout_rate),\n",
        "            nn.ConvTranspose2d(in_channels=32, out_channels=16, kernel_size=3, stride=2, padding=1, output_padding=1),\n",
        "            nn.ReLU(),\n",
        "            nn.Dropout(p=dropout_rate),\n",
        "            nn.ConvTranspose2d(in_channels=16, out_channels=1, kernel_size=3, stride=2, padding=1, output_padding=1),\n",
        "            nn.Sigmoid()\n",
        "        )\n",
        "\n",
        "    def forward(self, x):\n",
        "        x = self.encoder(x)\n",
        "        x = self.decoder(x)\n",
        "        return x\n"
      ],
      "metadata": {
        "id": "BI9A0x5LIpEi"
      },
      "execution_count": 21,
      "outputs": []
    },
    {
      "cell_type": "code",
      "source": [
        "learning_rate = 0.0002\n",
        " \n",
        "beta1 = 0.5 #For Adam optimizers\n",
        "# step 5 instatiate model, criterion , optimizer\n",
        "model=Autoencoder(0.2)\n",
        "criterion=nn.MSELoss()\n",
        "\n",
        "optimizer=optim.Adam(model.parameters(), lr=learning_rate, betas=(beta1,0.999) )"
      ],
      "metadata": {
        "id": "cZ22RGmJg3h1"
      },
      "execution_count": 22,
      "outputs": []
    },
    {
      "cell_type": "code",
      "source": [],
      "metadata": {
        "id": "yr_lbpBCJx0E"
      },
      "execution_count": 22,
      "outputs": []
    },
    {
      "cell_type": "code",
      "source": [
        "import torch.nn.functional as F\n",
        "# Step 6: Train the network\n",
        "epochs = 10\n",
        "for epoch in range(epochs):\n",
        "    running_loss = 0.0\n",
        "    for i, data in enumerate(train_loader):\n",
        "        images, _ = data\n",
        "        # Resize images to match the model's input size\n",
        "        images = F.interpolate(images, size=(32, 32), mode='bilinear', align_corners=False)\n",
        "        # zero grad\n",
        "        optimizer.zero_grad()\n",
        "        # forward, backward, update\n",
        "        outputs = model(images)\n",
        "        loss = criterion(outputs, images)\n",
        "        loss.backward()\n",
        "        optimizer.step()\n",
        "\n",
        "        running_loss += loss.item() * images.size(0)\n",
        "    running_loss /= len(train_loader)\n",
        "    print('Epoch: {} \\tTraining Loss: {:.6f}'.format(epoch+1, running_loss))  # Print training loss for the epoch\n"
      ],
      "metadata": {
        "colab": {
          "base_uri": "https://localhost:8080/"
        },
        "id": "Av-CmXDEjlfe",
        "outputId": "a2e64061-3158-4f6f-dbe1-722fda47cc7d"
      },
      "execution_count": 28,
      "outputs": [
        {
          "output_type": "stream",
          "name": "stdout",
          "text": [
            "Epoch: 1 \tTraining Loss: 0.610211\n",
            "Epoch: 2 \tTraining Loss: 0.568494\n",
            "Epoch: 3 \tTraining Loss: 0.547069\n",
            "Epoch: 4 \tTraining Loss: 0.533618\n",
            "Epoch: 5 \tTraining Loss: 0.526057\n",
            "Epoch: 6 \tTraining Loss: 0.521054\n",
            "Epoch: 7 \tTraining Loss: 0.516303\n",
            "Epoch: 8 \tTraining Loss: 0.512229\n",
            "Epoch: 9 \tTraining Loss: 0.509144\n",
            "Epoch: 10 \tTraining Loss: 0.506246\n"
          ]
        }
      ]
    },
    {
      "cell_type": "code",
      "source": [
        "# Set mode to evaluation\n",
        "model.eval()\n",
        "\n",
        "test_loss = 0.0\n",
        "with torch.no_grad():\n",
        "    for i, data in enumerate(test_loader):\n",
        "        images, _ = data\n",
        "        images = images\n",
        "        outputs = model(images)\n",
        "        \n",
        "        # Resize target tensor to match the size of the input tensor\n",
        "        target = F.interpolate(images, size=outputs.shape[-2:], mode='nearest')\n",
        "        \n",
        "        # Calculate the loss\n",
        "        loss = criterion(outputs, target)\n",
        "        test_loss += loss.item() * images.size(0)\n",
        "\n",
        "test_loss /= len(test_loader.dataset)\n",
        "\n",
        "# Print the test loss\n",
        "print('Test Loss: {:.6f}'.format(test_loss))\n"
      ],
      "metadata": {
        "id": "r_JVr6hlJGrr",
        "outputId": "ee77bd08-bf0f-42ee-d299-ef73425184a6",
        "colab": {
          "base_uri": "https://localhost:8080/"
        }
      },
      "execution_count": 24,
      "outputs": [
        {
          "output_type": "stream",
          "name": "stdout",
          "text": [
            "Test Loss: 0.074321\n"
          ]
        }
      ]
    },
    {
      "cell_type": "code",
      "source": [
        "import matplotlib.pyplot as plt\n",
        "import random\n",
        "random.seed(999)\n",
        "torch.manual_seed(999)\n",
        "\n",
        "# Get a batch of test images\n",
        "dataiter = iter(test_loader)\n",
        "images, _ = next(iter(test_loader))\n",
        "\n",
        "\n",
        "# Pass the test images through the autoencoder\n",
        "denoised = model(images)\n",
        "\n",
        "# Plot the original images and their denoised counterparts\n",
        "fig, axes = plt.subplots(nrows=2, ncols=8, sharex=True, sharey=True, figsize=(25,4))\n",
        "\n",
        "# Plot the original images\n",
        "for i in range(8):\n",
        "    axes[0,i].imshow(images[i].numpy().squeeze(), cmap='gray')\n",
        "    axes[0,i].set_title('Original Image')\n",
        "    axes[0,i].axis('off')\n",
        "\n",
        "# Plot the denoised images\n",
        "for i in range(8):\n",
        "    axes[1,i].imshow(denoised[i].detach().numpy().squeeze(), cmap='gray')\n",
        "    axes[1,i].set_title('Denoised Image')\n",
        "    axes[1,i].axis('off')\n",
        "\n",
        "plt.show()\n"
      ],
      "metadata": {
        "id": "Kuwb5YbXAzOo",
        "outputId": "fd4b8c91-5105-401f-d334-759c2780c633",
        "colab": {
          "base_uri": "https://localhost:8080/",
          "height": 202
        }
      },
      "execution_count": 27,
      "outputs": [
        {
          "output_type": "display_data",
          "data": {
            "text/plain": [
              "<Figure size 2500x400 with 16 Axes>"
            ],
            "image/png": "[encoded data removed]"
          },
          "metadata": {}
        }
      ]
    },
    {
      "cell_type": "code",
      "source": [],
      "metadata": {
        "id": "DhIWPJT5CFk6"
      },
      "execution_count": 25,
      "outputs": []
    }
  ]
}